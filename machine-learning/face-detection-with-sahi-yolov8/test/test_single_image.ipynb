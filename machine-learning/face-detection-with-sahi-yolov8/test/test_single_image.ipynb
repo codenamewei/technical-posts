{
 "cells": [
  {
   "cell_type": "code",
   "execution_count": 7,
   "metadata": {
    "tags": []
   },
   "outputs": [
    {
     "name": "stderr",
     "output_type": "stream",
     "text": [
      "11/11/2023 09:42:40 - INFO - root -   MTCNN Model loaded with device cpu\n"
     ]
    }
   ],
   "source": [
    "import os\n",
    "import numpy as np\n",
    "\n",
    "import imageio.v3 as iio\n",
    "from facescan.facedetectionmodel import FaceDetectionModel\n",
    "from facescan.utils.bbox import Bbox\n",
    "from facescan.utils.modelselection import ModelSelection\n",
    "import utils\n",
    "\n",
    "\n",
    "imagepath = \"../edge-input/crowd/1.jpg\"\n",
    "\n",
    "if not os.path.exists(imagepath):\n",
    "\n",
    "    raise FileNotFoundError(f\"{imagepath} not exist\")\n",
    "\n",
    "if imagepath.endswith(\".jpg\"):\n",
    "\n",
    "    image : np.ndarray = iio.imread(imagepath)\n",
    "\n",
    "if imagepath.endswith(\".png\"):\n",
    "\n",
    "    #only get the thress channels\n",
    "\n",
    "    image : np.ndarray = iio.imread(imagepath, pilmode='RGB')\n",
    "\n",
    "modelpath = \"/Users/chiawei.lim/Downloads/buffer/model-playground-data/face-detection/models\"\n",
    "yolomodel = os.path.join(modelpath, \"yolo_sahi.pt\")\n",
    "\n",
    "modelpath = dict(YOLO = yolomodel, SAHI = yolomodel, MTCNN = None)\n",
    "\n",
    "modeloptions : dict[str, FaceDetectionModel] = utils.load_models(modelpath)\n"
   ]
  },
  {
   "cell_type": "markdown",
   "metadata": {},
   "source": [
    "### MTCNN MODEL"
   ]
  },
  {
   "cell_type": "code",
   "execution_count": 11,
   "metadata": {
    "tags": []
   },
   "outputs": [
    {
     "name": "stdout",
     "output_type": "stream",
     "text": [
      "26\n",
      "[Bbox(x0=490, y0=40, x1=518, y1=75), Bbox(x0=5, y0=115, x1=32, y1=151), Bbox(x0=530, y0=17, x1=554, y1=50), Bbox(x0=244, y0=79, x1=272, y1=117), Bbox(x0=89, y0=14, x1=118, y1=52), Bbox(x0=325, y0=153, x1=360, y1=196), Bbox(x0=-14, y0=24, x1=18, y1=64), Bbox(x0=171, y0=95, x1=197, y1=128), Bbox(x0=388, y0=88, x1=417, y1=126), Bbox(x0=451, y0=42, x1=478, y1=77), Bbox(x0=183, y0=205, x1=213, y1=243), Bbox(x0=42, y0=192, x1=72, y1=228), Bbox(x0=288, y0=5, x1=313, y1=38), Bbox(x0=474, y0=155, x1=505, y1=197), Bbox(x0=268, y0=169, x1=298, y1=205), Bbox(x0=489, y0=249, x1=528, y1=304), Bbox(x0=588, y0=17, x1=616, y1=52), Bbox(x0=367, y0=254, x1=402, y1=305), Bbox(x0=595, y0=113, x1=623, y1=152), Bbox(x0=276, y0=262, x1=317, y1=323), Bbox(x0=74, y0=123, x1=99, y1=157), Bbox(x0=365, y0=0, x1=393, y1=35), Bbox(x0=543, y0=215, x1=575, y1=249), Bbox(x0=333, y0=82, x1=365, y1=122), Bbox(x0=118, y0=211, x1=148, y1=247), Bbox(x0=107, y0=139, x1=124, y1=158)]\n",
      "[          1           1           1           1     0.99999     0.99997     0.99996     0.99995      0.9999     0.99988     0.99988     0.99987     0.99981     0.99966     0.99966     0.99962     0.99922     0.99919      0.9991     0.99852     0.99849     0.99833      0.9978     0.99534     0.99522     0.75472]\n"
     ]
    }
   ],
   "source": [
    "bboxes, probabilities = modeloptions[\"MTCNN\"].detect(image)\n",
    "\n",
    "print(len(bboxes))\n",
    "print(bboxes)\n",
    "\n",
    "print(probabilities)\n",
    "\n",
    "outimage = image.copy()\n",
    "\n",
    "image_with_roi = utils.draw_roi(image = outimage, bboxes=bboxes, probabilities = probabilities)\n",
    "\n",
    "iio.imwrite(\"output_image/mtcnn.jpg\", image_with_roi)\n"
   ]
  },
  {
   "cell_type": "code",
   "execution_count": 9,
   "metadata": {
    "tags": []
   },
   "outputs": [
    {
     "name": "stderr",
     "output_type": "stream",
     "text": [
      "\n",
      "0: 288x640 29 faces, 34.7ms\n",
      "Speed: 1.6ms preprocess, 34.7ms inference, 0.4ms postprocess per image at shape (1, 3, 288, 640)\n"
     ]
    },
    {
     "name": "stdout",
     "output_type": "stream",
     "text": [
      "22\n",
      "[Bbox(x0=244, y0=80, x1=273, y1=117), Bbox(x0=268, y0=169, x1=299, y1=206), Bbox(x0=364, y0=0, x1=394, y1=35), Bbox(x0=528, y0=16, x1=556, y1=52), Bbox(x0=88, y0=14, x1=118, y1=53), Bbox(x0=593, y0=115, x1=624, y1=154), Bbox(x0=488, y0=37, x1=520, y1=77), Bbox(x0=388, y0=89, x1=417, y1=126), Bbox(x0=169, y0=94, x1=198, y1=132), Bbox(x0=116, y0=208, x1=148, y1=248), Bbox(x0=586, y0=17, x1=615, y1=54), Bbox(x0=72, y0=122, x1=99, y1=157), Bbox(x0=5, y0=114, x1=33, y1=151), Bbox(x0=450, y0=41, x1=476, y1=72), Bbox(x0=471, y0=157, x1=505, y1=198), Bbox(x0=181, y0=204, x1=214, y1=245), Bbox(x0=325, y0=153, x1=363, y1=197), Bbox(x0=543, y0=215, x1=576, y1=248), Bbox(x0=281, y0=258, x1=315, y1=287), Bbox(x0=0, y0=26, x1=22, y1=61), Bbox(x0=286, y0=1, x1=316, y1=39), Bbox(x0=334, y0=85, x1=364, y1=120)]\n",
      "[0.8086109161376953, 0.8001096248626709, 0.7974762320518494, 0.7930154204368591, 0.7894903421401978, 0.7840761542320251, 0.7824534177780151, 0.7809831500053406, 0.7777581214904785, 0.7754032611846924, 0.7737392783164978, 0.7737212181091309, 0.7724494338035583, 0.7686813473701477, 0.7655970454216003, 0.7566877603530884, 0.7284035682678223, 0.7169132828712463, 0.680097758769989, 0.6754547953605652, 0.6670564413070679, 0.6530647873878479]\n"
     ]
    }
   ],
   "source": [
    "bboxes, probabilities = modeloptions[\"YOLO\"].detect(image)\n",
    "\n",
    "print(len(bboxes))\n",
    "\n",
    "print(bboxes)\n",
    "\n",
    "print(probabilities)\n",
    "\n",
    "outimage = image.copy()\n",
    "\n",
    "image_with_roi = utils.draw_roi(image = outimage, bboxes=bboxes, probabilities = probabilities)\n",
    "\n",
    "iio.imwrite(\"output_image/yolo.jpg\", image_with_roi)\n"
   ]
  },
  {
   "cell_type": "code",
   "execution_count": 10,
   "metadata": {
    "tags": []
   },
   "outputs": [
    {
     "name": "stdout",
     "output_type": "stream",
     "text": [
      "Performing prediction on 6 number of slices.\n",
      "25\n",
      "[Bbox(x0=5, y0=113, x1=33, y1=151), Bbox(x0=365, y0=0, x1=394, y1=35), Bbox(x0=87, y0=13, x1=119, y1=53), Bbox(x0=243, y0=76, x1=274, y1=118), Bbox(x0=72, y0=120, x1=100, y1=157), Bbox(x0=267, y0=167, x1=299, y1=207), Bbox(x0=0, y0=24, x1=22, y1=62), Bbox(x0=387, y0=86, x1=417, y1=128), Bbox(x0=593, y0=113, x1=624, y1=154), Bbox(x0=527, y0=15, x1=557, y1=52), Bbox(x0=449, y0=40, x1=478, y1=77), Bbox(x0=488, y0=35, x1=521, y1=80), Bbox(x0=182, y0=202, x1=215, y1=246), Bbox(x0=326, y0=153, x1=363, y1=197), Bbox(x0=169, y0=93, x1=198, y1=130), Bbox(x0=40, y0=191, x1=73, y1=228), Bbox(x0=287, y0=1, x1=317, y1=39), Bbox(x0=586, y0=13, x1=619, y1=56), Bbox(x0=471, y0=154, x1=504, y1=201), Bbox(x0=116, y0=204, x1=148, y1=250), Bbox(x0=488, y0=247, x1=527, y1=287), Bbox(x0=542, y0=214, x1=576, y1=249), Bbox(x0=366, y0=248, x1=401, y1=287), Bbox(x0=334, y0=84, x1=365, y1=121), Bbox(x0=280, y0=257, x1=315, y1=287)]\n",
      "[0.8930562734603882, 0.8898941874504089, 0.8875806331634521, 0.876120388507843, 0.8714098930358887, 0.8579474687576294, 0.8574949502944946, 0.8556976914405823, 0.8529189229011536, 0.8493239879608154, 0.8463810086250305, 0.8452715277671814, 0.8438904881477356, 0.8388429284095764, 0.83564293384552, 0.8330734968185425, 0.8279416561126709, 0.823815643787384, 0.8233556747436523, 0.7988073229789734, 0.7960606217384338, 0.7915877103805542, 0.7589645981788635, 0.7578442692756653, 0.7196934819221497]\n"
     ]
    }
   ],
   "source": [
    "bboxes, probabilities = modeloptions[\"SAHI\"].detect(image)\n",
    "\n",
    "print(len(bboxes))\n",
    "\n",
    "print(bboxes)\n",
    "\n",
    "print(probabilities)\n",
    "\n",
    "\n",
    "outimage = image.copy()\n",
    "\n",
    "image_with_roi = utils.draw_roi(image = outimage, bboxes=bboxes, probabilities = probabilities)\n",
    "\n",
    "iio.imwrite(\"output_image/sahi.jpg\", image_with_roi)\n"
   ]
  }
 ],
 "metadata": {
  "kernelspec": {
   "display_name": "Python 3 (ipykernel)",
   "language": "python",
   "name": "python3"
  },
  "language_info": {
   "codemirror_mode": {
    "name": "ipython",
    "version": 3
   },
   "file_extension": ".py",
   "mimetype": "text/x-python",
   "name": "python",
   "nbconvert_exporter": "python",
   "pygments_lexer": "ipython3",
   "version": "3.10.4"
  }
 },
 "nbformat": 4,
 "nbformat_minor": 4
}
