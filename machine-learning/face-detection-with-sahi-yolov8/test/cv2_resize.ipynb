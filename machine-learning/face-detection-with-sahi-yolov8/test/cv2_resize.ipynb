{
 "cells": [
  {
   "cell_type": "code",
   "execution_count": 5,
   "id": "1e0d7d9e-d8ed-4ebf-be54-baff378c6fb8",
   "metadata": {
    "tags": []
   },
   "outputs": [
    {
     "name": "stdout",
     "output_type": "stream",
     "text": [
      "../edge-input/nicholas-green-nPz8akkUmDI-unsplash.jpg\n",
      "../edge-input/joel-muniz-HvZDCuRnSaY-unsplash.jpg\n",
      "../edge-input/dwayne-joe-H1360QE0M1o-unsplash.jpg\n",
      "../edge-input/antenna-FDV1BaKNKEo-unsplash.jpg\n",
      "../edge-input/sanket-mishra-GcTyAog4f-I-unsplash.jpg\n",
      "../edge-input/naassom-azevedo-Q_Sei-TqSlc-unsplash.jpg\n",
      "../edge-input/omar-lopez-T6zu4jFhVwg-unsplash.jpg\n",
      "../edge-input/antenna-cw-cj_nFa14-unsplash.jpg\n",
      "../edge-input/antenna-ohNCIiKVT1g-unsplash.jpg\n",
      "../edge-input/elevate-nYgy58eb9aw-unsplash.jpg\n",
      "../edge-input/product-school--GajrOEN6m4-unsplash.jpg\n",
      "../edge-input/product-school-V8KOZEUTx9E-unsplash.jpg\n"
     ]
    }
   ],
   "source": [
    "import cv2\n",
    "import os\n",
    "\n",
    "input_path = \"../edge-raw\"\n",
    "output_path = \"../edge-input\"\n",
    "\n",
    "shrink_percentage = 0.2\n",
    "\n",
    "files = os.walk(input_path)\n",
    "\n",
    "for item in files:\n",
    "\n",
    "    for file in item[2]:\n",
    "        \n",
    "        if file.endswith(\".jpg\") or file.endswith(\".png\"):\n",
    "            \n",
    "            file = input_path + \"/\" + file\n",
    "            im = cv2.imread(file)\n",
    "\n",
    "            width = int(im.shape[1] * shrink_percentage)\n",
    "            height = int(im.shape[0] * shrink_percentage)\n",
    "\n",
    "\n",
    "            outfilepath = file.replace(input_path, output_path)\n",
    "            im_resize = cv2.resize(im, (width, height))\n",
    "\n",
    "            cv2.imwrite(outfilepath, im_resize)\n",
    "\n",
    "            print(outfilepath)"
   ]
  },
  {
   "cell_type": "code",
   "execution_count": null,
   "id": "63e1fa4f-b072-41c4-b751-8586318e3461",
   "metadata": {},
   "outputs": [],
   "source": []
  }
 ],
 "metadata": {
  "kernelspec": {
   "display_name": "Python 3 (ipykernel)",
   "language": "python",
   "name": "python3"
  },
  "language_info": {
   "codemirror_mode": {
    "name": "ipython",
    "version": 3
   },
   "file_extension": ".py",
   "mimetype": "text/x-python",
   "name": "python",
   "nbconvert_exporter": "python",
   "pygments_lexer": "ipython3",
   "version": "3.10.4"
  }
 },
 "nbformat": 4,
 "nbformat_minor": 5
}
