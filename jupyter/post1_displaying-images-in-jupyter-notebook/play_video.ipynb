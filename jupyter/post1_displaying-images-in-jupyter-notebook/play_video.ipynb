{
 "cells": [
  {
   "cell_type": "code",
   "execution_count": null,
   "id": "d44337ef-2f63-449e-ab98-c582eee3d146",
   "metadata": {
    "tags": []
   },
   "outputs": [],
   "source": [
    "<video src=\"//storage.googleapis.com/media-session/caminandes/short.mp4#t=84\" autoPlay=\"true\" muted loop controls>"
   ]
  },
  {
   "cell_type": "markdown",
   "id": "5a9ef766-2d52-4d30-98f2-1818c4920f8a",
   "metadata": {},
   "source": [
    "### parameters:\n",
    "- `width`\n",
    "    - Example: `width=\"200\"`\n",
    "- `height`\n",
    "    - Example: `height=\"200\"`\n",
    "- `autoPlay`\n",
    "    - to play automatically: `autoplay=\"true\"`\n",
    "    - to not play automatically: `autoplay=\"false\"`\n",
    "- `controls`\n",
    "    - to include controls: `controls`\n",
    "    - to not include controls: exclude the controls parameter\n",
    "- `muted`\n",
    "    - muted since the beginning, but can toggle by user\n",
    "    - to mute sounds: `muted`\n",
    "    - to not mute sounds: exclude the parameter `muted`\n",
    "- `loop`\n",
    "    - for the video to restart\n",
    "- Check more at [here](https://www.w3schools.com/tags/tag_video.asp)"
   ]
  },
  {
   "cell_type": "code",
   "execution_count": null,
   "id": "21475034-a643-4da2-acbd-2ce8fd146d2b",
   "metadata": {},
   "outputs": [],
   "source": []
  }
 ],
 "metadata": {
  "kernelspec": {
   "display_name": "Python 3 (ipykernel)",
   "language": "python",
   "name": "python3"
  },
  "language_info": {
   "codemirror_mode": {
    "name": "ipython",
    "version": 3
   },
   "file_extension": ".py",
   "mimetype": "text/x-python",
   "name": "python",
   "nbconvert_exporter": "python",
   "pygments_lexer": "ipython3",
   "version": "3.10.4"
  }
 },
 "nbformat": 4,
 "nbformat_minor": 5
}
