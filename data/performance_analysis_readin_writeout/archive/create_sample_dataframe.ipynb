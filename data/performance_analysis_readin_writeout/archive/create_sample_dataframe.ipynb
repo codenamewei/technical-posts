{
 "cells": [
  {
   "cell_type": "markdown",
   "id": "241a6a9c-12be-4fa1-8dff-0d97aea1e0c7",
   "metadata": {},
   "source": [
    "# Create sample csv file"
   ]
  },
  {
   "cell_type": "code",
   "execution_count": 4,
   "id": "64e7cb97-ed5b-4550-9740-c995a0227ea5",
   "metadata": {
    "tags": []
   },
   "outputs": [],
   "source": [
    "import pandas as pd\n",
    "from string import Template\n",
    "  \n",
    "datapathtemplate = Template(\"data/sampleinput_${index}.csv\")"
   ]
  },
  {
   "cell_type": "code",
   "execution_count": 5,
   "id": "8743a644-1cfe-4837-b8df-1b1c86badf35",
   "metadata": {
    "tags": []
   },
   "outputs": [
    {
     "name": "stdout",
     "output_type": "stream",
     "text": [
      "Save to data/sampleinput_1.csv\n",
      "Save to data/sampleinput_2.csv\n"
     ]
    },
    {
     "data": {
      "text/html": [
       "<div>\n",
       "<style scoped>\n",
       "    .dataframe tbody tr th:only-of-type {\n",
       "        vertical-align: middle;\n",
       "    }\n",
       "\n",
       "    .dataframe tbody tr th {\n",
       "        vertical-align: top;\n",
       "    }\n",
       "\n",
       "    .dataframe thead th {\n",
       "        text-align: right;\n",
       "    }\n",
       "</style>\n",
       "<table border=\"1\" class=\"dataframe\">\n",
       "  <thead>\n",
       "    <tr style=\"text-align: right;\">\n",
       "      <th></th>\n",
       "      <th>key</th>\n",
       "      <th>counter</th>\n",
       "    </tr>\n",
       "  </thead>\n",
       "  <tbody>\n",
       "    <tr>\n",
       "      <th>0</th>\n",
       "      <td>hello</td>\n",
       "      <td>1</td>\n",
       "    </tr>\n",
       "    <tr>\n",
       "      <th>1</th>\n",
       "      <td>world</td>\n",
       "      <td>2</td>\n",
       "    </tr>\n",
       "    <tr>\n",
       "      <th>2</th>\n",
       "      <td>again</td>\n",
       "      <td>3</td>\n",
       "    </tr>\n",
       "  </tbody>\n",
       "</table>\n",
       "</div>"
      ],
      "text/plain": [
       "     key  counter\n",
       "0  hello        1\n",
       "1  world        2\n",
       "2  again        3"
      ]
     },
     "execution_count": 5,
     "metadata": {},
     "output_type": "execute_result"
    }
   ],
   "source": [
    "# assign data of lists.  \n",
    "data = {'key': [\"hello\", \"world\", \"again\"], 'counter': [1, 2, 3]}  \n",
    "\n",
    "df = pd.DataFrame(data)\n",
    "\n",
    "#create two files\n",
    "for i in range(1, 3):\n",
    "    \n",
    "    datapath = datapathtemplate.substitute(dict(index = i)) \n",
    "    df.to_csv(datapath, index = False)\n",
    "    \n",
    "    print(f\"Save to {datapath}\")\n",
    "          \n",
    "df"
   ]
  }
 ],
 "metadata": {
  "kernelspec": {
   "display_name": "Python 3 (ipykernel)",
   "language": "python",
   "name": "python3"
  },
  "language_info": {
   "codemirror_mode": {
    "name": "ipython",
    "version": 3
   },
   "file_extension": ".py",
   "mimetype": "text/x-python",
   "name": "python",
   "nbconvert_exporter": "python",
   "pygments_lexer": "ipython3",
   "version": "3.10.4"
  }
 },
 "nbformat": 4,
 "nbformat_minor": 5
}
